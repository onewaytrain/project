{
 "cells": [
  {
   "cell_type": "code",
   "execution_count": 12,
   "metadata": {},
   "outputs": [],
   "source": [
    "import pandas as pd\n",
    "import os"
   ]
  },
  {
   "cell_type": "code",
   "execution_count": 13,
   "metadata": {},
   "outputs": [
    {
     "name": "stdout",
     "output_type": "stream",
     "text": [
      "Defaulting to user installation because normal site-packages is not writeable\n",
      "Requirement already satisfied: openpyxl in c:\\users\\b8-08\\appdata\\local\\packages\\pythonsoftwarefoundation.python.3.13_qbz5n2kfra8p0\\localcache\\local-packages\\python313\\site-packages (3.1.5)\n",
      "Requirement already satisfied: et-xmlfile in c:\\users\\b8-08\\appdata\\local\\packages\\pythonsoftwarefoundation.python.3.13_qbz5n2kfra8p0\\localcache\\local-packages\\python313\\site-packages (from openpyxl) (2.0.0)\n",
      "Note: you may need to restart the kernel to use updated packages.\n"
     ]
    },
    {
     "name": "stderr",
     "output_type": "stream",
     "text": [
      "\n",
      "[notice] A new release of pip is available: 24.3.1 -> 25.0\n",
      "[notice] To update, run: C:\\Users\\B8-08\\AppData\\Local\\Microsoft\\WindowsApps\\PythonSoftwareFoundation.Python.3.13_qbz5n2kfra8p0\\python.exe -m pip install --upgrade pip\n"
     ]
    }
   ],
   "source": [
    "%pip install openpyxl"
   ]
  },
  {
   "cell_type": "code",
   "execution_count": 31,
   "metadata": {},
   "outputs": [
    {
     "name": "stdout",
     "output_type": "stream",
     "text": [
      "대한민국행복지도_건강.xlsx\n"
     ]
    }
   ],
   "source": [
    "path = 'pythonDataAnalysis/happy'\n",
    "file_list = os.listdir(path)\n",
    "\n",
    "keywords = {'삶의만족도': 'happy_life', '건강':'happy_health', '안전':'happy_safe', '환경':'happy_enviro', \n",
    "            '경제':'happy_econ', '교육':'happy_edu', '관계및사회참여':'happy_relation', '여가':'happy_leisure'}\n",
    "\n",
    "try:\n",
    "    for i in file_list:\n",
    "        if i.endswith('.xlsx'):\n",
    "            for x, y in keywords.items():\n",
    "                if x in i:\n",
    "                    keywords[x] = pd.read_excel(path+i, engine='openpyxl')\n",
    "                    health = keywords[x].groupby('시도')[['평균']].mean()\n",
    "                    happy_merge=pd.merge(happy_merge, health.rename(columns={'평균':x}), on='시도')\n",
    "\n",
    "except:\n",
    "    print(i)\n",
    "\n",
    "# df = pd.DataFrame()\n",
    "\n",
    "# for i in file_list:\n",
    "#     if i.startswith('대한민국행복지도_') and i.endswith('.xlsx'):\n",
    "#         happy = pd.read_excel(path+i, engine='openpyxl')\n",
    "#     for key in keywords:\n",
    "#         if key in i:\n",
    "#             happy['구분']=key\n",
    "#             break\n",
    "#     df = pd.concat([df, happy])\n",
    "\n",
    "# df.head()\n",
    "\n",
    "\n",
    "# happy_life = pd.read_excel('pythonDataAnalysis\\happy\\대한민국행복지도_삶의만족도.xlsx', engine='openpyxl')\n",
    "# happy_merge = happy_life.groupby('시도')[['삶의 만족도']].mean()\n",
    "# happy_merge = pd.merge(happy_merge, temp.rename(columns={'평균':'건강}), on='시도')\n",
    "\n",
    "# happy_health = pd.read_excel('pythonDataAnalysis\\happy\\대한민국행복지도_건강.xlsx', engine='openpyxl')\n",
    "# happy_safe = pd.read_excel('pythonDataAnalysis\\happy\\대한민국행복지도_안전.xlsx', engine='openpyxl')\n",
    "# happy_enviro = pd.read_excel('pythonDataAnalysis\\happy\\대한민국행복지도_환경.xlsx', engine='openpyxl')\n",
    "# happy_econ = pd.read_excel('pythonDataAnalysis\\happy\\대한민국행복지도_경제.xlsx', engine='openpyxl')\n",
    "# happy_edu = pd.read_excel('pythonDataAnalysis\\happy\\대한민국행복지도_건강.xlsx', engine='openpyxl')\n",
    "# happy_relation = pd.read_excel('pythonDataAnalysis\\happy\\대한민국행복지도_건강.xlsx', engine='openpyxl')\n",
    "# happy_leisure = pd.read_excel('pythonDataAnalysis\\happy\\대한민국행복지도_건강.xlsx', engine='openpyxl')\n"
   ]
  }
 ],
 "metadata": {
  "kernelspec": {
   "display_name": "Python 3",
   "language": "python",
   "name": "python3"
  },
  "language_info": {
   "codemirror_mode": {
    "name": "ipython",
    "version": 3
   },
   "file_extension": ".py",
   "mimetype": "text/x-python",
   "name": "python",
   "nbconvert_exporter": "python",
   "pygments_lexer": "ipython3",
   "version": "3.13.1"
  }
 },
 "nbformat": 4,
 "nbformat_minor": 2
}
